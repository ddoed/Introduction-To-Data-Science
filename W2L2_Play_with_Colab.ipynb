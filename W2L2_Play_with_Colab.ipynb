{
  "nbformat": 4,
  "nbformat_minor": 0,
  "metadata": {
    "colab": {
      "provenance": [],
      "toc_visible": true,
      "include_colab_link": true
    },
    "kernelspec": {
      "name": "python3",
      "display_name": "Python 3"
    },
    "language_info": {
      "name": "python"
    }
  },
  "cells": [
    {
      "cell_type": "markdown",
      "metadata": {
        "id": "view-in-github",
        "colab_type": "text"
      },
      "source": [
        "<a href=\"https://colab.research.google.com/github/ddoed/Introduction-To-Data-Science/blob/main/W2L2_Play_with_Colab.ipynb\" target=\"_parent\"><img src=\"https://colab.research.google.com/assets/colab-badge.svg\" alt=\"Open In Colab\"/></a>"
      ]
    },
    {
      "cell_type": "markdown",
      "source": [
        "# PNUCSE 데이터과학입문  \n",
        "## 2주차 실습자료  \n",
        "### 교강사: 박영진, youngjinpark@pusan.ac.kr\n",
        "---\n",
        "\n",
        "## 실습 목표\n",
        "\n",
        "- 에러 메세지를 확인하고 디버깅할 수 있다.\n",
        "- 매직 커맨드를 활용할 수 있다.\n",
        "- Google Drive와 연계하여 파일을 읽고 쓸 수 있다.\n"
      ],
      "metadata": {
        "id": "5QsguxWvUBV5"
      }
    },
    {
      "cell_type": "markdown",
      "source": [
        "# 도움말(Docstring) 확인"
      ],
      "metadata": {
        "id": "0ZQpxf4gl6wu"
      }
    },
    {
      "cell_type": "code",
      "execution_count": null,
      "metadata": {
        "id": "nqXMQc67MxZf"
      },
      "outputs": [],
      "source": [
        "a = 10"
      ]
    },
    {
      "cell_type": "code",
      "source": [
        "a?"
      ],
      "metadata": {
        "id": "saiY-6QdM0nf"
      },
      "execution_count": null,
      "outputs": []
    },
    {
      "cell_type": "code",
      "source": [
        "class Calculator:\n",
        "  def __init__(self):\n",
        "    self.result = 0\n",
        "\n",
        "  def add(self, num):\n",
        "    self.result += num\n",
        "    return self.result"
      ],
      "metadata": {
        "id": "frXQc45FNID0"
      },
      "execution_count": null,
      "outputs": []
    },
    {
      "cell_type": "code",
      "source": [
        "Calculator?"
      ],
      "metadata": {
        "id": "8Mz9zQ6ENIcz"
      },
      "execution_count": null,
      "outputs": []
    },
    {
      "cell_type": "code",
      "source": [
        "def mult(a, b):\n",
        "    \"\"\"\n",
        "    Multiplies two numbers and returns the result.\n",
        "\n",
        "    Args:\n",
        "        a (int or float): The first number.\n",
        "        b (int or float): The second number.\n",
        "\n",
        "    Returns:\n",
        "        int or float: The product of `a` and `b`.\n",
        "\n",
        "    Example:\n",
        "        >>> mult(3, 4)\n",
        "        12\n",
        "        >>> mult(2.5, 4)\n",
        "        10.0\n",
        "    \"\"\"\n",
        "    return a * b"
      ],
      "metadata": {
        "id": "Q_0aDZtPNuLD"
      },
      "execution_count": null,
      "outputs": []
    },
    {
      "cell_type": "code",
      "source": [
        "mult?"
      ],
      "metadata": {
        "id": "1ZYulwgbNhRo"
      },
      "execution_count": null,
      "outputs": []
    },
    {
      "cell_type": "markdown",
      "source": [
        "# 에러 다루기 Error Handling"
      ],
      "metadata": {
        "id": "vV_62orVmwxH"
      }
    },
    {
      "cell_type": "code",
      "source": [
        "Text = \"Hello World!!\"\n",
        "Text[3] = \"G\""
      ],
      "metadata": {
        "id": "HNITpX8vm26x"
      },
      "execution_count": null,
      "outputs": []
    },
    {
      "cell_type": "code",
      "source": [
        "a = 5\n",
        "b = \"Hello\"\n",
        "\n",
        "print(a + b)"
      ],
      "metadata": {
        "id": "ucCJ7xumm9J0"
      },
      "execution_count": null,
      "outputs": []
    },
    {
      "cell_type": "code",
      "source": [
        "arr = [1, 2, 3, 4, 5"
      ],
      "metadata": {
        "id": "7QD9lBY4m_6n"
      },
      "execution_count": null,
      "outputs": []
    },
    {
      "cell_type": "code",
      "source": [
        "a = class"
      ],
      "metadata": {
        "id": "YYsEXNMlnDxY"
      },
      "execution_count": null,
      "outputs": []
    },
    {
      "cell_type": "code",
      "source": [
        "for i in range(10):\n",
        "  sum = 10 / i\n",
        "\n",
        "print(sum)"
      ],
      "metadata": {
        "id": "g41l5T2tge8i"
      },
      "execution_count": null,
      "outputs": []
    },
    {
      "cell_type": "code",
      "source": [
        "a = 0\n",
        "b = 100 / a"
      ],
      "metadata": {
        "id": "pwAXFTcGgqcq"
      },
      "execution_count": null,
      "outputs": []
    },
    {
      "cell_type": "code",
      "source": [
        "a = number"
      ],
      "metadata": {
        "id": "6PGzyAP_hu_B"
      },
      "execution_count": null,
      "outputs": []
    },
    {
      "cell_type": "code",
      "source": [
        "arr = [1,2,3,4,5,6,7,8,9,10]\n",
        "\n",
        "for i in range(len(arr) + 1):\n",
        "  print(arr[i])"
      ],
      "metadata": {
        "id": "hQniS2qHiJ8p"
      },
      "execution_count": null,
      "outputs": []
    },
    {
      "cell_type": "markdown",
      "source": [
        "# 원활하게 디버깅을 수행하는 방법"
      ],
      "metadata": {
        "id": "YglBRPWHxPkV"
      }
    },
    {
      "cell_type": "code",
      "source": [
        "a = 100\n",
        "sum = 0\n",
        "\n",
        "for i in range(a):\n",
        "  sum = sum + i"
      ],
      "metadata": {
        "id": "PBmPnJhQ3MyA"
      },
      "execution_count": null,
      "outputs": []
    },
    {
      "cell_type": "code",
      "source": [
        "a = 10\n",
        "sum = 0\n",
        "\n",
        "for i in range(a):\n",
        "  sum = sum + i * i"
      ],
      "metadata": {
        "id": "y7Xl0khc4IFv"
      },
      "execution_count": null,
      "outputs": []
    },
    {
      "cell_type": "markdown",
      "source": [
        "# 매직 커맨드 활용"
      ],
      "metadata": {
        "id": "SZTeV3X8mHE3"
      }
    },
    {
      "cell_type": "code",
      "source": [
        "%magic"
      ],
      "metadata": {
        "id": "qLFoddh-N3bG"
      },
      "execution_count": null,
      "outputs": []
    },
    {
      "cell_type": "code",
      "source": [
        "%pdb\n",
        "a = 10\n",
        "b = \"Hello World!!\"\n",
        "c = 3.14\n",
        "d = 0.0\n",
        "\n",
        "print(a / d)"
      ],
      "metadata": {
        "id": "bgfeQ95ymONQ"
      },
      "execution_count": null,
      "outputs": []
    },
    {
      "cell_type": "code",
      "source": [
        "%time a = 10"
      ],
      "metadata": {
        "id": "FkXrLknimXb8"
      },
      "execution_count": null,
      "outputs": []
    },
    {
      "cell_type": "code",
      "source": [
        "%time a= 1000/5"
      ],
      "metadata": {
        "id": "jSb0t0qGmaOm"
      },
      "execution_count": null,
      "outputs": []
    },
    {
      "cell_type": "code",
      "source": [
        "%whos"
      ],
      "metadata": {
        "id": "Ar-dxGJ7mfZ6"
      },
      "execution_count": null,
      "outputs": []
    },
    {
      "cell_type": "code",
      "source": [
        "%%time\n",
        "for i in range(100):\n",
        "  b = a * a"
      ],
      "metadata": {
        "id": "0DdQwLr5mr4A"
      },
      "execution_count": null,
      "outputs": []
    },
    {
      "cell_type": "code",
      "source": [
        "%%time\n",
        "a = 3\n",
        "b = 4\n",
        "c = 5\n",
        "\n",
        "if a**2 + b**2 is c**2:\n",
        "  print(\"직각 삼각형입니다.\")"
      ],
      "metadata": {
        "id": "KKVPKxsxf6fT"
      },
      "execution_count": null,
      "outputs": []
    },
    {
      "cell_type": "code",
      "source": [
        "%pwd"
      ],
      "metadata": {
        "id": "6b2mUTw8RdRT"
      },
      "execution_count": null,
      "outputs": []
    },
    {
      "cell_type": "markdown",
      "source": [
        "**실습: 강의 자료를 보고, 새로운 폴더를 만들고 확인해보세요.**\n",
        "\n",
        "**TODO: Check lecture slides and make a new directory.**"
      ],
      "metadata": {
        "id": "XQ5SYMPSSK4z"
      }
    },
    {
      "cell_type": "code",
      "source": [],
      "metadata": {
        "id": "Ts20gk-ESbxJ"
      },
      "execution_count": null,
      "outputs": []
    },
    {
      "cell_type": "markdown",
      "source": [
        "# 구글 드라이브 불러오기"
      ],
      "metadata": {
        "id": "LEysjsEYxhoR"
      }
    },
    {
      "cell_type": "code",
      "source": [
        "from google.colab import drive\n",
        "drive.mount('/content/drive')"
      ],
      "metadata": {
        "id": "PA8YlPhRxCeu"
      },
      "execution_count": null,
      "outputs": []
    },
    {
      "cell_type": "markdown",
      "source": [
        "# csv 파일 읽어오기"
      ],
      "metadata": {
        "id": "JpHhNjC7xxuo"
      }
    },
    {
      "cell_type": "code",
      "source": [
        "import pandas as pd\n",
        "\n",
        "pharmacy = pd.read_csv('/content/drive/MyDrive/Colab Notebooks/Data/부산광역시_금정구_약국 현황_20240924.csv', encoding=\"EUC-KR\")\n",
        "print(pharmacy)"
      ],
      "metadata": {
        "id": "P9iNTmtwxkDV"
      },
      "execution_count": null,
      "outputs": []
    },
    {
      "cell_type": "markdown",
      "source": [
        "# txt 파일 저장하기"
      ],
      "metadata": {
        "id": "FhWfKLgFnLqs"
      }
    },
    {
      "cell_type": "code",
      "source": [
        "idx = 0\n",
        "name = pharmacy['약국명칭']\n",
        "number = pharmacy['약국전화번호']\n",
        "address = pharmacy['약국소재지(도로명)']\n",
        "\n",
        "path = '/content/drive/MyDrive/Colab Notebooks/Data/pharmacy_0.txt'\n",
        "\n",
        "with open(path, \"w\", encoding=\"utf-8\") as f:\n",
        "  f.write(name[idx] + \" \")\n",
        "  f.write(number[idx] + \" \")\n",
        "  f.write(address[idx])"
      ],
      "metadata": {
        "id": "e6NLJ-Pax1rI"
      },
      "execution_count": null,
      "outputs": []
    },
    {
      "cell_type": "markdown",
      "source": [
        "# Text to speech (with pip)"
      ],
      "metadata": {
        "id": "B2qFgaiO0oHK"
      }
    },
    {
      "cell_type": "markdown",
      "source": [
        "gTTS에 대한 자세한 파라미터 설명은 [링크](https://gtts.readthedocs.io/en/latest/module.html#module-gtts.tts)에서 확인가능합니다.\n",
        "\n",
        "gTTS는 라이브러리는 구글 번역기 서버와 컴퓨터를 중개하는 API 역할을 수행합니다.\n",
        "\n",
        "즉, text는 로컬 컴퓨터에서 음성파일로 변환되는 것이 아닌, 구글 번역기 서버에서 음성파일로 변환되어 컴퓨터로 다시 돌아오게 됩니다."
      ],
      "metadata": {
        "id": "vgwsF5Zu014L"
      }
    },
    {
      "cell_type": "code",
      "source": [
        "pip install gTTS"
      ],
      "metadata": {
        "id": "dQ-5v-8y0xX9"
      },
      "execution_count": null,
      "outputs": []
    },
    {
      "cell_type": "code",
      "source": [
        "from gtts import gTTS\n",
        "import os\n",
        "\n",
        "file_name = \"hello.mp3\"\n",
        "language = \"ko\"\n",
        "text = \"안녕하세요\"\n",
        "\n",
        "speech = gTTS(text,lang=language)\n",
        "speech.save(file_name)"
      ],
      "metadata": {
        "id": "hN2L1HTA0y-n"
      },
      "execution_count": null,
      "outputs": []
    }
  ]
}