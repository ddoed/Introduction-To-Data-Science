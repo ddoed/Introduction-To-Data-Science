{
  "cells": [
    {
      "cell_type": "markdown",
      "metadata": {
        "id": "view-in-github",
        "colab_type": "text"
      },
      "source": [
        "<a href=\"https://colab.research.google.com/github/ddoed/Introduction-To-Data-Science/blob/main/W3L2_Python_Fast_Review.ipynb\" target=\"_parent\"><img src=\"https://colab.research.google.com/assets/colab-badge.svg\" alt=\"Open In Colab\"/></a>"
      ]
    },
    {
      "cell_type": "markdown",
      "metadata": {
        "id": "5QsguxWvUBV5"
      },
      "source": [
        "# PNUCSE 데이터과학입문  \n",
        "## 3주차 실습자료  \n",
        "### 교강사: 박영진, youngjinpark@pusan.ac.kr\n",
        "---\n",
        "\n",
        "## 실습 목표\n",
        "\n",
        "- Python Review\n",
        "- Types\n",
        "- Array\n"
      ]
    },
    {
      "cell_type": "markdown",
      "metadata": {
        "id": "eGDtkttOIQDj"
      },
      "source": [
        "#Python Review"
      ]
    },
    {
      "cell_type": "code",
      "execution_count": null,
      "metadata": {
        "id": "fWoZ1VSqcZRn"
      },
      "outputs": [],
      "source": [
        "# p.4\n",
        "print(64 / 8)"
      ]
    },
    {
      "cell_type": "code",
      "execution_count": null,
      "metadata": {
        "id": "FJ99W1t2HLaz"
      },
      "outputs": [],
      "source": [
        "# p.5\n",
        "hours_per_wk = 24 * 7\n",
        "print(hours_per_wk)"
      ]
    },
    {
      "cell_type": "code",
      "execution_count": null,
      "metadata": {
        "id": "dGtIDhRM0Iop"
      },
      "outputs": [],
      "source": [
        "# p.8, 에러 발생 유도함.\n",
        "abs(-1, 2)"
      ]
    },
    {
      "cell_type": "code",
      "execution_count": null,
      "metadata": {
        "id": "akEjvHrZH1bj"
      },
      "outputs": [],
      "source": [
        "# p.8\n",
        "a = abs(-10)\n",
        "print(a)"
      ]
    },
    {
      "cell_type": "code",
      "execution_count": null,
      "metadata": {
        "id": "RvXw00LUH-9f"
      },
      "outputs": [],
      "source": [
        "# p.8\n",
        "a = round(number=12.34)\n",
        "print(a)"
      ]
    },
    {
      "cell_type": "code",
      "execution_count": null,
      "metadata": {
        "id": "FEk6CPgEgJ5k"
      },
      "outputs": [],
      "source": [
        "# p.8\n",
        "abs?"
      ]
    },
    {
      "cell_type": "markdown",
      "metadata": {
        "id": "a5KNxo_tIVzF"
      },
      "source": [
        "#Types"
      ]
    },
    {
      "cell_type": "code",
      "execution_count": null,
      "metadata": {
        "id": "tlhoSNruIPWW"
      },
      "outputs": [],
      "source": [
        "# p.10, float형 정밀도 확인을 위한 코드\n",
        "a = 1.000005\n",
        "b = 1.0000000000000005\n",
        "c = 1.00000000000000005\n",
        "print(a)\n",
        "print(b)\n",
        "print(c)"
      ]
    },
    {
      "cell_type": "code",
      "execution_count": null,
      "metadata": {
        "id": "LUTQl5RB1PyL"
      },
      "outputs": [],
      "source": [
        "# p.11\n",
        "a = int('12')\n",
        "b = float('1.2')\n",
        "print(a + b)"
      ]
    },
    {
      "cell_type": "code",
      "execution_count": null,
      "metadata": {
        "id": "w6PnPdvk1kY2"
      },
      "outputs": [],
      "source": [
        "# p.11, 에러 발생 유도함.\n",
        "a = str(5)\n",
        "print(4 + a)"
      ]
    },
    {
      "cell_type": "code",
      "execution_count": null,
      "metadata": {
        "id": "6K-8C6qM1zI2"
      },
      "outputs": [],
      "source": [
        "# p.12, 에러 발생 유도함.\n",
        "a = float('one point two')"
      ]
    },
    {
      "cell_type": "code",
      "execution_count": null,
      "metadata": {
        "id": "9Mh8KiV-2OI0"
      },
      "outputs": [],
      "source": [
        "# p.12\n",
        "a = int(1.2)\n",
        "print(a)"
      ]
    },
    {
      "cell_type": "code",
      "execution_count": null,
      "metadata": {
        "id": "lIzC7x5Y2SwO"
      },
      "outputs": [],
      "source": [
        "# p.13, 에러 발생 유도함.\n",
        "x = 3\n",
        "y = '4'\n",
        "z = '5.6'\n",
        "\n",
        "print(x + y)\n",
        "print(x + int(y + z))\n",
        "print(str(x) + int(y))\n",
        "print(y + float(z))"
      ]
    },
    {
      "cell_type": "code",
      "execution_count": null,
      "metadata": {
        "id": "0t70Oq7S2pe-"
      },
      "outputs": [],
      "source": [
        "# p.14\n",
        "print(type(2))\n",
        "print(type(2 + 2))\n",
        "x = 2\n",
        "print(type(x))"
      ]
    },
    {
      "cell_type": "markdown",
      "metadata": {
        "id": "TBhKwNqp3GXs"
      },
      "source": [
        "#Arrays"
      ]
    },
    {
      "cell_type": "code",
      "execution_count": null,
      "metadata": {
        "id": "dZ-V5b_E3FhV"
      },
      "outputs": [],
      "source": [
        "# p.18\n",
        "from datascience import *\n",
        "english_parts_of_speech = make_array(\"noun\", \"pronoun\", \"verb\", \"adverb\", \"adjective\", \"conjunction\", \"preposition\", \"interjection\")\n",
        "english_parts_of_speech"
      ]
    },
    {
      "cell_type": "code",
      "execution_count": null,
      "metadata": {
        "id": "hTzCvhJm4Lh-"
      },
      "outputs": [],
      "source": [
        "# p.18\n",
        "import numpy as np\n",
        "eps_arr = np.array([\"noun\", \"pronoun\", \"verb\", \"adverb\", \"adjective\", \"conjunction\", \"preposition\", \"interjection\"])\n",
        "eps_arr"
      ]
    },
    {
      "cell_type": "code",
      "execution_count": null,
      "metadata": {
        "id": "9-mY687X4YTh"
      },
      "outputs": [],
      "source": [
        "# p.19\n",
        "baseline_high = 14.48\n",
        "highs = make_array(baseline_high - 0.880, baseline_high - 0.093, baseline_high + 0.105, baseline_high + 0.684)\n",
        "highs"
      ]
    },
    {
      "cell_type": "code",
      "execution_count": null,
      "metadata": {
        "id": "Sd7CB2Gr4gP-"
      },
      "outputs": [],
      "source": [
        "# p.19\n",
        "baseline_high = 14.48\n",
        "highs = np.array([baseline_high - 0.880, baseline_high - 0.093, baseline_high + 0.105, baseline_high + 0.684])\n",
        "highs"
      ]
    },
    {
      "cell_type": "code",
      "execution_count": null,
      "metadata": {
        "id": "js5lZgBF4l3d"
      },
      "outputs": [],
      "source": [
        "# p.19\n",
        "baseline_low = 3.00\n",
        "lows = np.array([baseline_low - 0.872, baseline_low - 0.629, baseline_low - 0.126, baseline_low + 0.728])\n",
        "lows"
      ]
    },
    {
      "cell_type": "code",
      "execution_count": null,
      "metadata": {
        "id": "FtGhWPZg4y5Y"
      },
      "outputs": [],
      "source": [
        "# p.20\n",
        "np.array([\n",
        "    highs.item(0) - lows.item(0),\n",
        "    highs.item(1) - lows.item(1),\n",
        "    highs.item(2) - lows.item(2),\n",
        "    highs.item(3) - lows.item(3)\n",
        "])\n",
        "highs - lows"
      ]
    },
    {
      "cell_type": "code",
      "execution_count": null,
      "metadata": {
        "id": "BLpTmFdK5McK"
      },
      "outputs": [],
      "source": [
        "# p.21\n",
        "arr = np.array([0.0, 1.0, 2.0, 3.0])\n",
        "\n",
        "a = np.prod(arr)\n",
        "print(a)\n",
        "\n",
        "b = np.sum(arr)\n",
        "print(b)\n",
        "\n",
        "c = np.all(arr)\n",
        "print(c)\n",
        "\n",
        "d = np.any(arr)\n",
        "print(d)\n",
        "\n",
        "e = np.count_nonzero(arr)\n",
        "print(e)"
      ]
    },
    {
      "cell_type": "code",
      "execution_count": null,
      "metadata": {
        "id": "zXJXCRSd6B6o"
      },
      "outputs": [],
      "source": [
        "# p.23\n",
        "a = np.arange(5)\n",
        "print(a)\n",
        "\n",
        "b = np.arange(3, 9)\n",
        "print(b)\n",
        "\n",
        "c = np.arange(start=3, stop=9)\n",
        "print(c)\n",
        "\n",
        "d = np.arange(1.5, -2, -0.5)\n",
        "print(d)\n",
        "\n",
        "e = np.arange(start=1.5, stop=-2, step=-0.5)\n",
        "print(e)"
      ]
    },
    {
      "cell_type": "code",
      "execution_count": null,
      "metadata": {
        "id": "CN1vRu4h7otw"
      },
      "outputs": [],
      "source": [
        "# p.25\n",
        "by_four_to_20 = np.arange(1, 20, 4)\n",
        "by_four_to_20"
      ]
    },
    {
      "cell_type": "code",
      "execution_count": null,
      "metadata": {
        "id": "YpISsnEL8PjS"
      },
      "outputs": [],
      "source": [
        "# p.25\n",
        "positive_term_denominators = np.arange(1, 10000, 4)\n",
        "positive_term_denominators"
      ]
    },
    {
      "cell_type": "code",
      "execution_count": null,
      "metadata": {
        "id": "RR6ipE108TYJ"
      },
      "outputs": [],
      "source": [
        "# p.25\n",
        "positive_terms = 1 / positive_term_denominators\n",
        "negative_terms = 1 / (positive_term_denominators + 2)\n",
        "\n",
        "4 * (sum(positive_terms) - sum(negative_terms))"
      ]
    },
    {
      "cell_type": "code",
      "execution_count": null,
      "metadata": {
        "id": "CPe4roXB8hMG"
      },
      "outputs": [],
      "source": [
        "# p.26\n",
        "even = np.arange(2, 1000001, 2)\n",
        "one_below_even = even - 1\n",
        "one_above_even = even + 1\n",
        "\n",
        "2 * np.prod(even/one_below_even) * np.prod(even/one_above_even)"
      ]
    }
  ],
  "metadata": {
    "colab": {
      "provenance": [],
      "include_colab_link": true
    },
    "kernelspec": {
      "display_name": "Python 3",
      "name": "python3"
    },
    "language_info": {
      "name": "python"
    }
  },
  "nbformat": 4,
  "nbformat_minor": 0
}